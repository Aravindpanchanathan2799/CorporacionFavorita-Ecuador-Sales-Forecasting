{
 "cells": [
  {
   "cell_type": "code",
   "id": "initial_id",
   "metadata": {
    "collapsed": true,
    "ExecuteTime": {
     "end_time": "2025-03-12T12:21:14.448797Z",
     "start_time": "2025-03-12T12:21:14.439878Z"
    }
   },
   "source": [
    "import pandas as pd\n",
    "import matplotlib.pyplot as plt\n",
    "import seaborn as sns\n",
    "from scipy.stats import shapiro, normaltest\n",
    "import scipy.stats as stats\n",
    "import itertools\n",
    "from scipy.stats import ttest_ind\n",
    "from scipy.stats import f_oneway"
   ],
   "outputs": [],
   "execution_count": 94
  },
  {
   "metadata": {
    "ExecuteTime": {
     "end_time": "2025-03-12T12:21:15.525773Z",
     "start_time": "2025-03-12T12:21:15.373967Z"
    }
   },
   "cell_type": "code",
   "source": "df_holidays = pd.read_csv(\"C:/Users/Aravi/PycharmProjects/CorporaciónFavorita-Ecuador-Sales-Forecasting/data/store-sales-time-series-forecasting/holidays_events.csv\")",
   "id": "6009795042acaa44",
   "outputs": [],
   "execution_count": 95
  },
  {
   "metadata": {
    "ExecuteTime": {
     "end_time": "2025-03-12T12:21:16.154104Z",
     "start_time": "2025-03-12T12:21:16.136667Z"
    }
   },
   "cell_type": "code",
   "source": "df_holidays.head()",
   "id": "754061577e8d5664",
   "outputs": [
    {
     "data": {
      "text/plain": [
       "         date     type    locale locale_name                    description  \\\n",
       "0  2012-03-02  Holiday     Local       Manta             Fundacion de Manta   \n",
       "1  2012-04-01  Holiday  Regional    Cotopaxi  Provincializacion de Cotopaxi   \n",
       "2  2012-04-12  Holiday     Local      Cuenca            Fundacion de Cuenca   \n",
       "3  2012-04-14  Holiday     Local    Libertad      Cantonizacion de Libertad   \n",
       "4  2012-04-21  Holiday     Local    Riobamba      Cantonizacion de Riobamba   \n",
       "\n",
       "   transferred  \n",
       "0        False  \n",
       "1        False  \n",
       "2        False  \n",
       "3        False  \n",
       "4        False  "
      ],
      "text/html": [
       "<div>\n",
       "<style scoped>\n",
       "    .dataframe tbody tr th:only-of-type {\n",
       "        vertical-align: middle;\n",
       "    }\n",
       "\n",
       "    .dataframe tbody tr th {\n",
       "        vertical-align: top;\n",
       "    }\n",
       "\n",
       "    .dataframe thead th {\n",
       "        text-align: right;\n",
       "    }\n",
       "</style>\n",
       "<table border=\"1\" class=\"dataframe\">\n",
       "  <thead>\n",
       "    <tr style=\"text-align: right;\">\n",
       "      <th></th>\n",
       "      <th>date</th>\n",
       "      <th>type</th>\n",
       "      <th>locale</th>\n",
       "      <th>locale_name</th>\n",
       "      <th>description</th>\n",
       "      <th>transferred</th>\n",
       "    </tr>\n",
       "  </thead>\n",
       "  <tbody>\n",
       "    <tr>\n",
       "      <th>0</th>\n",
       "      <td>2012-03-02</td>\n",
       "      <td>Holiday</td>\n",
       "      <td>Local</td>\n",
       "      <td>Manta</td>\n",
       "      <td>Fundacion de Manta</td>\n",
       "      <td>False</td>\n",
       "    </tr>\n",
       "    <tr>\n",
       "      <th>1</th>\n",
       "      <td>2012-04-01</td>\n",
       "      <td>Holiday</td>\n",
       "      <td>Regional</td>\n",
       "      <td>Cotopaxi</td>\n",
       "      <td>Provincializacion de Cotopaxi</td>\n",
       "      <td>False</td>\n",
       "    </tr>\n",
       "    <tr>\n",
       "      <th>2</th>\n",
       "      <td>2012-04-12</td>\n",
       "      <td>Holiday</td>\n",
       "      <td>Local</td>\n",
       "      <td>Cuenca</td>\n",
       "      <td>Fundacion de Cuenca</td>\n",
       "      <td>False</td>\n",
       "    </tr>\n",
       "    <tr>\n",
       "      <th>3</th>\n",
       "      <td>2012-04-14</td>\n",
       "      <td>Holiday</td>\n",
       "      <td>Local</td>\n",
       "      <td>Libertad</td>\n",
       "      <td>Cantonizacion de Libertad</td>\n",
       "      <td>False</td>\n",
       "    </tr>\n",
       "    <tr>\n",
       "      <th>4</th>\n",
       "      <td>2012-04-21</td>\n",
       "      <td>Holiday</td>\n",
       "      <td>Local</td>\n",
       "      <td>Riobamba</td>\n",
       "      <td>Cantonizacion de Riobamba</td>\n",
       "      <td>False</td>\n",
       "    </tr>\n",
       "  </tbody>\n",
       "</table>\n",
       "</div>"
      ]
     },
     "execution_count": 96,
     "metadata": {},
     "output_type": "execute_result"
    }
   ],
   "execution_count": 96
  },
  {
   "metadata": {
    "ExecuteTime": {
     "end_time": "2025-03-12T12:21:17.481474Z",
     "start_time": "2025-03-12T12:21:17.417969Z"
    }
   },
   "cell_type": "code",
   "source": "df_holidays.info()",
   "id": "397ca01b5d73122",
   "outputs": [
    {
     "name": "stdout",
     "output_type": "stream",
     "text": [
      "<class 'pandas.core.frame.DataFrame'>\n",
      "RangeIndex: 350 entries, 0 to 349\n",
      "Data columns (total 6 columns):\n",
      " #   Column       Non-Null Count  Dtype \n",
      "---  ------       --------------  ----- \n",
      " 0   date         350 non-null    object\n",
      " 1   type         350 non-null    object\n",
      " 2   locale       350 non-null    object\n",
      " 3   locale_name  350 non-null    object\n",
      " 4   description  350 non-null    object\n",
      " 5   transferred  350 non-null    bool  \n",
      "dtypes: bool(1), object(5)\n",
      "memory usage: 14.1+ KB\n"
     ]
    }
   ],
   "execution_count": 97
  },
  {
   "metadata": {
    "ExecuteTime": {
     "end_time": "2025-03-12T12:21:19.124714Z",
     "start_time": "2025-03-12T12:21:19.103551Z"
    }
   },
   "cell_type": "code",
   "source": [
    "print(\"Unique Rows:\")\n",
    "print(df_holidays.isnull().sum())\n",
    "print(\"Duplicate Rows:\", df_holidays.duplicated().sum())"
   ],
   "id": "97009f9fa239469f",
   "outputs": [
    {
     "name": "stdout",
     "output_type": "stream",
     "text": [
      "Unique Rows:\n",
      "date           0\n",
      "type           0\n",
      "locale         0\n",
      "locale_name    0\n",
      "description    0\n",
      "transferred    0\n",
      "dtype: int64\n",
      "Duplicate Rows: 0\n"
     ]
    }
   ],
   "execution_count": 98
  },
  {
   "metadata": {
    "ExecuteTime": {
     "end_time": "2025-03-09T00:17:14.458439Z",
     "start_time": "2025-03-09T00:17:14.452368Z"
    }
   },
   "cell_type": "code",
   "source": [
    "print(\"Unique values in 'type':\", df_holidays['type'].unique())\n",
    "print(\"Unique values in 'locale':\", df_holidays['locale'].unique())\n",
    "print(\"Unique values in 'locale':\", df_holidays['locale_name'].unique())\n",
    "print(\"Unique values in 'transferred':\", df_holidays['transferred'].unique())"
   ],
   "id": "a71056ff150df867",
   "outputs": [
    {
     "name": "stdout",
     "output_type": "stream",
     "text": [
      "Unique values in 'type': ['Holiday' 'Transfer' 'Additional' 'Bridge' 'Work Day' 'Event']\n",
      "Unique values in 'locale': ['Local' 'Regional' 'National']\n",
      "Unique values in 'locale': ['Manta' 'Cotopaxi' 'Cuenca' 'Libertad' 'Riobamba' 'Puyo' 'Guaranda'\n",
      " 'Imbabura' 'Latacunga' 'Machala' 'Santo Domingo' 'El Carmen' 'Cayambe'\n",
      " 'Esmeraldas' 'Ecuador' 'Ambato' 'Ibarra' 'Quevedo'\n",
      " 'Santo Domingo de los Tsachilas' 'Santa Elena' 'Quito' 'Loja' 'Salinas'\n",
      " 'Guayaquil']\n",
      "Unique values in 'transferred': [False  True]\n"
     ]
    }
   ],
   "execution_count": 24
  },
  {
   "metadata": {
    "ExecuteTime": {
     "end_time": "2025-03-12T12:21:23.276595Z",
     "start_time": "2025-03-12T12:21:23.202289Z"
    }
   },
   "cell_type": "code",
   "source": [
    "df_holidays['date'] = pd.to_datetime(df_holidays['date'])\n",
    "df_holidays['year'] = df_holidays['date'].dt.year\n",
    "df_holidays['month'] = df_holidays['date'].dt.month\n",
    "print(\"Date Range:\", df_holidays['date'].min(), \"to\", df_holidays['date'].max())"
   ],
   "id": "f580d650eaa0ca17",
   "outputs": [
    {
     "name": "stdout",
     "output_type": "stream",
     "text": [
      "Date Range: 2012-03-02 00:00:00 to 2017-12-26 00:00:00\n"
     ]
    }
   ],
   "execution_count": 99
  },
  {
   "metadata": {
    "ExecuteTime": {
     "end_time": "2025-03-12T12:21:24.245491Z",
     "start_time": "2025-03-12T12:21:24.232281Z"
    }
   },
   "cell_type": "code",
   "source": "print(df_holidays.describe())",
   "id": "ee7abf370f73e218",
   "outputs": [
    {
     "name": "stdout",
     "output_type": "stream",
     "text": [
      "                                date         year       month\n",
      "count                            350   350.000000  350.000000\n",
      "mean   2015-04-24 00:45:15.428571392  2014.714286    7.711429\n",
      "min              2012-03-02 00:00:00  2012.000000    1.000000\n",
      "25%              2013-12-23 06:00:00  2013.000000    5.000000\n",
      "50%              2015-06-08 00:00:00  2015.000000    7.000000\n",
      "75%              2016-07-03 00:00:00  2016.000000   11.000000\n",
      "max              2017-12-26 00:00:00  2017.000000   12.000000\n",
      "std                              NaN     1.614253    3.333366\n"
     ]
    }
   ],
   "execution_count": 100
  },
  {
   "metadata": {
    "ExecuteTime": {
     "end_time": "2025-03-12T12:21:25.672305Z",
     "start_time": "2025-03-12T12:21:25.654350Z"
    }
   },
   "cell_type": "code",
   "source": "df_holidays.describe(include=['object','bool'])",
   "id": "d4e25206ba3f6974",
   "outputs": [
    {
     "data": {
      "text/plain": [
       "           type    locale locale_name description transferred\n",
       "count       350       350         350         350         350\n",
       "unique        6         3          24         103           2\n",
       "top     Holiday  National     Ecuador    Carnaval       False\n",
       "freq        221       174         174          10         338"
      ],
      "text/html": [
       "<div>\n",
       "<style scoped>\n",
       "    .dataframe tbody tr th:only-of-type {\n",
       "        vertical-align: middle;\n",
       "    }\n",
       "\n",
       "    .dataframe tbody tr th {\n",
       "        vertical-align: top;\n",
       "    }\n",
       "\n",
       "    .dataframe thead th {\n",
       "        text-align: right;\n",
       "    }\n",
       "</style>\n",
       "<table border=\"1\" class=\"dataframe\">\n",
       "  <thead>\n",
       "    <tr style=\"text-align: right;\">\n",
       "      <th></th>\n",
       "      <th>type</th>\n",
       "      <th>locale</th>\n",
       "      <th>locale_name</th>\n",
       "      <th>description</th>\n",
       "      <th>transferred</th>\n",
       "    </tr>\n",
       "  </thead>\n",
       "  <tbody>\n",
       "    <tr>\n",
       "      <th>count</th>\n",
       "      <td>350</td>\n",
       "      <td>350</td>\n",
       "      <td>350</td>\n",
       "      <td>350</td>\n",
       "      <td>350</td>\n",
       "    </tr>\n",
       "    <tr>\n",
       "      <th>unique</th>\n",
       "      <td>6</td>\n",
       "      <td>3</td>\n",
       "      <td>24</td>\n",
       "      <td>103</td>\n",
       "      <td>2</td>\n",
       "    </tr>\n",
       "    <tr>\n",
       "      <th>top</th>\n",
       "      <td>Holiday</td>\n",
       "      <td>National</td>\n",
       "      <td>Ecuador</td>\n",
       "      <td>Carnaval</td>\n",
       "      <td>False</td>\n",
       "    </tr>\n",
       "    <tr>\n",
       "      <th>freq</th>\n",
       "      <td>221</td>\n",
       "      <td>174</td>\n",
       "      <td>174</td>\n",
       "      <td>10</td>\n",
       "      <td>338</td>\n",
       "    </tr>\n",
       "  </tbody>\n",
       "</table>\n",
       "</div>"
      ]
     },
     "execution_count": 101,
     "metadata": {},
     "output_type": "execute_result"
    }
   ],
   "execution_count": 101
  },
  {
   "metadata": {
    "ExecuteTime": {
     "end_time": "2025-03-09T01:38:23.451494Z",
     "start_time": "2025-03-09T01:38:23.445595Z"
    }
   },
   "cell_type": "code",
   "source": [
    "holiday_counts = df_holidays.groupby(['year']).size()\n",
    "print(holiday_counts)"
   ],
   "id": "2119ea3b2809840a",
   "outputs": [
    {
     "name": "stdout",
     "output_type": "stream",
     "text": [
      "year\n",
      "2012    41\n",
      "2013    51\n",
      "2014    67\n",
      "2015    52\n",
      "2016    86\n",
      "2017    53\n",
      "dtype: int64\n"
     ]
    }
   ],
   "execution_count": 49
  },
  {
   "metadata": {
    "ExecuteTime": {
     "end_time": "2025-03-12T12:22:19.136126Z",
     "start_time": "2025-03-12T12:22:19.069402Z"
    }
   },
   "cell_type": "code",
   "source": [
    "# Count of Holidays and Events per year\n",
    "holiday_counts = df_holidays.groupby(['year','type']).size().unstack()\n",
    "print(holiday_counts)"
   ],
   "id": "dbadf192976eb1ac",
   "outputs": [
    {
     "name": "stdout",
     "output_type": "stream",
     "text": [
      "type  Additional  Bridge  Event  Holiday  Transfer  Work Day\n",
      "year                                                        \n",
      "2012         7.0     2.0    NaN     31.0       1.0       NaN\n",
      "2013         9.0     NaN    1.0     38.0       1.0       2.0\n",
      "2014         9.0     1.0   17.0     38.0       1.0       1.0\n",
      "2015         8.0     1.0    3.0     39.0       NaN       1.0\n",
      "2016         9.0     1.0   34.0     38.0       3.0       1.0\n",
      "2017         9.0     NaN    1.0     37.0       6.0       NaN\n"
     ]
    }
   ],
   "execution_count": 102
  },
  {
   "metadata": {
    "ExecuteTime": {
     "end_time": "2025-03-12T12:22:32.787181Z",
     "start_time": "2025-03-12T12:22:32.769708Z"
    }
   },
   "cell_type": "code",
   "source": [
    "# Count of Holidays and Events per year\n",
    "holiday_counts = df_holidays.groupby(['year','locale']).size().unstack()\n",
    "print(holiday_counts)"
   ],
   "id": "631632f409e0c7ee",
   "outputs": [
    {
     "name": "stdout",
     "output_type": "stream",
     "text": [
      "locale  Local  National  Regional\n",
      "year                             \n",
      "2012       23        14         4\n",
      "2013       25        22         4\n",
      "2014       25        38         4\n",
      "2015       25        23         4\n",
      "2016       26        56         4\n",
      "2017       28        21         4\n"
     ]
    }
   ],
   "execution_count": 103
  },
  {
   "metadata": {
    "ExecuteTime": {
     "end_time": "2025-03-12T12:25:21.075231Z",
     "start_time": "2025-03-12T12:25:21.056357Z"
    }
   },
   "cell_type": "code",
   "source": [
    "holiday_counts = df_holidays.groupby(['year','type','locale']).size()\n",
    "print(holiday_counts)"
   ],
   "id": "84db1cb2dd23db41",
   "outputs": [
    {
     "name": "stdout",
     "output_type": "stream",
     "text": [
      "year  type        locale  \n",
      "2012  Additional  Local        1\n",
      "                  National     6\n",
      "      Bridge      National     2\n",
      "      Holiday     Local       22\n",
      "                  National     5\n",
      "                  Regional     4\n",
      "      Transfer    National     1\n",
      "2013  Additional  Local        2\n",
      "                  National     7\n",
      "      Event       National     1\n",
      "      Holiday     Local       23\n",
      "                  National    11\n",
      "                  Regional     4\n",
      "      Transfer    National     1\n",
      "      Work Day    National     2\n",
      "2014  Additional  Local        2\n",
      "                  National     7\n",
      "      Bridge      National     1\n",
      "      Event       National    17\n",
      "      Holiday     Local       23\n",
      "                  National    11\n",
      "                  Regional     4\n",
      "      Transfer    National     1\n",
      "      Work Day    National     1\n",
      "2015  Additional  Local        1\n",
      "                  National     7\n",
      "      Bridge      National     1\n",
      "      Event       National     3\n",
      "      Holiday     Local       24\n",
      "                  National    11\n",
      "                  Regional     4\n",
      "      Work Day    National     1\n",
      "2016  Additional  Local        2\n",
      "                  National     7\n",
      "      Bridge      National     1\n",
      "      Event       National    34\n",
      "      Holiday     Local       23\n",
      "                  National    11\n",
      "                  Regional     4\n",
      "      Transfer    Local        1\n",
      "                  National     2\n",
      "      Work Day    National     1\n",
      "2017  Additional  Local        3\n",
      "                  National     6\n",
      "      Event       National     1\n",
      "      Holiday     Local       22\n",
      "                  National    11\n",
      "                  Regional     4\n",
      "      Transfer    Local        3\n",
      "                  National     3\n",
      "dtype: int64\n"
     ]
    }
   ],
   "execution_count": 110
  },
  {
   "metadata": {
    "ExecuteTime": {
     "end_time": "2025-03-12T12:24:48.565017Z",
     "start_time": "2025-03-12T12:24:48.552495Z"
    }
   },
   "cell_type": "code",
   "source": [
    "holiday_counts = df_holidays.groupby(['year','type','locale','locale_name']).size()\n",
    "print(holiday_counts)"
   ],
   "id": "45e84959fc165c1b",
   "outputs": [
    {
     "name": "stdout",
     "output_type": "stream",
     "text": [
      "year  type        locale    locale_name                   \n",
      "2012  Additional  Local     Quito                             1\n",
      "                  National  Ecuador                           6\n",
      "      Bridge      National  Ecuador                           2\n",
      "      Holiday     Local     Ambato                            2\n",
      "                            Cayambe                           1\n",
      "                                                             ..\n",
      "2017  Holiday     Regional  Santo Domingo de los Tsachilas    1\n",
      "      Transfer    Local     Cuenca                            1\n",
      "                            Ibarra                            1\n",
      "                            Quito                             1\n",
      "                  National  Ecuador                           3\n",
      "Length: 180, dtype: int64\n"
     ]
    }
   ],
   "execution_count": 109
  },
  {
   "metadata": {
    "ExecuteTime": {
     "end_time": "2025-03-12T12:24:35.603090Z",
     "start_time": "2025-03-12T12:24:35.587863Z"
    }
   },
   "cell_type": "code",
   "source": [
    "holiday_counts = df_holidays.groupby(['year','transferred','locale']).size()\n",
    "print(holiday_counts)"
   ],
   "id": "6bf734a3afa33b2",
   "outputs": [
    {
     "name": "stdout",
     "output_type": "stream",
     "text": [
      "year  transferred  locale  \n",
      "2012  False        Local       23\n",
      "                   National    13\n",
      "                   Regional     4\n",
      "      True         National     1\n",
      "2013  False        Local       25\n",
      "                   National    21\n",
      "                   Regional     4\n",
      "      True         National     1\n",
      "2014  False        Local       25\n",
      "                   National    37\n",
      "                   Regional     4\n",
      "      True         National     1\n",
      "2015  False        Local       25\n",
      "                   National    23\n",
      "                   Regional     4\n",
      "2016  False        Local       25\n",
      "                   National    54\n",
      "                   Regional     4\n",
      "      True         Local        1\n",
      "                   National     2\n",
      "2017  False        Local       25\n",
      "                   National    18\n",
      "                   Regional     4\n",
      "      True         Local        3\n",
      "                   National     3\n",
      "dtype: int64\n"
     ]
    }
   ],
   "execution_count": 108
  },
  {
   "metadata": {
    "ExecuteTime": {
     "end_time": "2025-03-12T12:24:14.145962Z",
     "start_time": "2025-03-12T12:24:14.125947Z"
    }
   },
   "cell_type": "code",
   "source": [
    "holiday_counts = df_holidays.groupby(['year','locale','locale_name','transferred']).size()\n",
    "print(holiday_counts)"
   ],
   "id": "4fadcd8d7386507a",
   "outputs": [
    {
     "name": "stdout",
     "output_type": "stream",
     "text": [
      "year  locale    locale_name                     transferred\n",
      "2012  Local     Ambato                          False          2\n",
      "                Cayambe                         False          1\n",
      "                Cuenca                          False          1\n",
      "                El Carmen                       False          1\n",
      "                Esmeraldas                      False          1\n",
      "                                                              ..\n",
      "2017  National  Ecuador                         True           3\n",
      "      Regional  Cotopaxi                        False          1\n",
      "                Imbabura                        False          1\n",
      "                Santa Elena                     False          1\n",
      "                Santo Domingo de los Tsachilas  False          1\n",
      "Length: 152, dtype: int64\n"
     ]
    }
   ],
   "execution_count": 107
  },
  {
   "metadata": {
    "ExecuteTime": {
     "end_time": "2025-03-12T12:27:38.550828Z",
     "start_time": "2025-03-12T12:27:38.482151Z"
    }
   },
   "cell_type": "code",
   "source": [
    "categorical_cols = ['type', 'locale', 'locale_name', 'transferred']\n",
    "df_holidays['transferred'] = df_holidays['transferred'].astype(str)\n",
    "chi_square_results = {}\n",
    "\n",
    "for col1, col2 in itertools.combinations(categorical_cols, 2):\n",
    "    contingency_table = pd.crosstab(df_holidays[col1], df_holidays[col2])\n",
    "    chi2, p, dof, expected = stats.chi2_contingency(contingency_table)\n",
    "    chi_square_results[f\"{col1} vs {col2}\"] = {\n",
    "        'Chi-Square Statistic': chi2,\n",
    "        'P-value': p,\n",
    "        'Conclusion': \"Significant Difference\" if p  < 0.05 else \"No Significant Difference\",\n",
    "    }\n",
    "\n",
    "chi_square_df = pd.DataFrame.from_dict(chi_square_results, orient='index')\n",
    "chi_square_df"
   ],
   "id": "3852a570624c9ec7",
   "outputs": [
    {
     "data": {
      "text/plain": [
       "                            Chi-Square Statistic        P-value  \\\n",
       "type vs locale                        131.458024   2.354491e-23   \n",
       "type vs locale_name                   180.015456   1.019698e-04   \n",
       "type vs transferred                     7.253206   2.024798e-01   \n",
       "locale vs locale_name                 700.000000  8.785524e-118   \n",
       "locale vs transferred                   1.861984   3.941625e-01   \n",
       "locale_name vs transferred             12.380895   9.641658e-01   \n",
       "\n",
       "                                           Conclusion  \n",
       "type vs locale                 Significant Difference  \n",
       "type vs locale_name            Significant Difference  \n",
       "type vs transferred         No Significant Difference  \n",
       "locale vs locale_name          Significant Difference  \n",
       "locale vs transferred       No Significant Difference  \n",
       "locale_name vs transferred  No Significant Difference  "
      ],
      "text/html": [
       "<div>\n",
       "<style scoped>\n",
       "    .dataframe tbody tr th:only-of-type {\n",
       "        vertical-align: middle;\n",
       "    }\n",
       "\n",
       "    .dataframe tbody tr th {\n",
       "        vertical-align: top;\n",
       "    }\n",
       "\n",
       "    .dataframe thead th {\n",
       "        text-align: right;\n",
       "    }\n",
       "</style>\n",
       "<table border=\"1\" class=\"dataframe\">\n",
       "  <thead>\n",
       "    <tr style=\"text-align: right;\">\n",
       "      <th></th>\n",
       "      <th>Chi-Square Statistic</th>\n",
       "      <th>P-value</th>\n",
       "      <th>Conclusion</th>\n",
       "    </tr>\n",
       "  </thead>\n",
       "  <tbody>\n",
       "    <tr>\n",
       "      <th>type vs locale</th>\n",
       "      <td>131.458024</td>\n",
       "      <td>2.354491e-23</td>\n",
       "      <td>Significant Difference</td>\n",
       "    </tr>\n",
       "    <tr>\n",
       "      <th>type vs locale_name</th>\n",
       "      <td>180.015456</td>\n",
       "      <td>1.019698e-04</td>\n",
       "      <td>Significant Difference</td>\n",
       "    </tr>\n",
       "    <tr>\n",
       "      <th>type vs transferred</th>\n",
       "      <td>7.253206</td>\n",
       "      <td>2.024798e-01</td>\n",
       "      <td>No Significant Difference</td>\n",
       "    </tr>\n",
       "    <tr>\n",
       "      <th>locale vs locale_name</th>\n",
       "      <td>700.000000</td>\n",
       "      <td>8.785524e-118</td>\n",
       "      <td>Significant Difference</td>\n",
       "    </tr>\n",
       "    <tr>\n",
       "      <th>locale vs transferred</th>\n",
       "      <td>1.861984</td>\n",
       "      <td>3.941625e-01</td>\n",
       "      <td>No Significant Difference</td>\n",
       "    </tr>\n",
       "    <tr>\n",
       "      <th>locale_name vs transferred</th>\n",
       "      <td>12.380895</td>\n",
       "      <td>9.641658e-01</td>\n",
       "      <td>No Significant Difference</td>\n",
       "    </tr>\n",
       "  </tbody>\n",
       "</table>\n",
       "</div>"
      ]
     },
     "execution_count": 112,
     "metadata": {},
     "output_type": "execute_result"
    }
   ],
   "execution_count": 112
  },
  {
   "metadata": {
    "ExecuteTime": {
     "end_time": "2025-03-12T12:30:27.393414Z",
     "start_time": "2025-03-12T12:30:27.357094Z"
    }
   },
   "cell_type": "code",
   "source": [
    "holiday_groups = [df_holidays[df_holidays['type'] == htype]['year'] for htype in df_holidays['type'].unique()]\n",
    "f_stat, p_value = f_oneway(*holiday_groups)\n",
    "print(f\"ANOVA Test (Year vs Holiday Type) → P-Value: {p_value}\")\n",
    "if p_value < 0.05:\n",
    "   print(\"Conclusion: Significant Difference\")"
   ],
   "id": "25581aca1d160385",
   "outputs": [
    {
     "name": "stdout",
     "output_type": "stream",
     "text": [
      "ANOVA Test (Year vs Holiday Type) → P-Value: 0.004846774954971729\n",
      "Conclusion: Significant Difference\n"
     ]
    }
   ],
   "execution_count": 113
  },
  {
   "metadata": {},
   "cell_type": "code",
   "outputs": [],
   "execution_count": null,
   "source": "",
   "id": "3db4432e8d5cd05b"
  }
 ],
 "metadata": {
  "kernelspec": {
   "display_name": "Python 3",
   "language": "python",
   "name": "python3"
  },
  "language_info": {
   "codemirror_mode": {
    "name": "ipython",
    "version": 2
   },
   "file_extension": ".py",
   "mimetype": "text/x-python",
   "name": "python",
   "nbconvert_exporter": "python",
   "pygments_lexer": "ipython2",
   "version": "2.7.6"
  }
 },
 "nbformat": 4,
 "nbformat_minor": 5
}
